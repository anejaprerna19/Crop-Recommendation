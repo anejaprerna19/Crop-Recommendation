{
  "nbformat": 4,
  "nbformat_minor": 0,
  "metadata": {
    "colab": {
      "name": "CropPAR.ipynb",
      "provenance": [],
      "include_colab_link": true
    },
    "kernelspec": {
      "name": "python3",
      "display_name": "Python 3"
    },
    "language_info": {
      "name": "python"
    }
  },
  "cells": [
    {
      "cell_type": "markdown",
      "metadata": {
        "id": "view-in-github",
        "colab_type": "text"
      },
      "source": [
        "<a href=\"https://colab.research.google.com/github/anejaprerna19/Crop-Recommendation/blob/main/CropPAR.ipynb\" target=\"_parent\"><img src=\"https://colab.research.google.com/assets/colab-badge.svg\" alt=\"Open In Colab\"/></a>"
      ]
    },
    {
      "cell_type": "code",
      "execution_count": null,
      "metadata": {
        "colab": {
          "resources": {
            "http://localhost:8080/nbextensions/google.colab/files.js": {
              "data": "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",
              "ok": true,
              "headers": [
                [
                  "content-type",
                  "application/javascript"
                ]
              ],
              "status": 200,
              "status_text": ""
            }
          },
          "base_uri": "https://localhost:8080/",
          "height": 74
        },
        "id": "PdXPoety64z-",
        "outputId": "9190be66-812a-44b0-bc70-a8725882be79"
      },
      "outputs": [
        {
          "output_type": "display_data",
          "data": {
            "text/html": [
              "\n",
              "     <input type=\"file\" id=\"files-ee02da9a-1123-4736-a51c-6429e0fe878c\" name=\"files[]\" multiple disabled\n",
              "        style=\"border:none\" />\n",
              "     <output id=\"result-ee02da9a-1123-4736-a51c-6429e0fe878c\">\n",
              "      Upload widget is only available when the cell has been executed in the\n",
              "      current browser session. Please rerun this cell to enable.\n",
              "      </output>\n",
              "      <script src=\"/nbextensions/google.colab/files.js\"></script> "
            ],
            "text/plain": [
              "<IPython.core.display.HTML object>"
            ]
          },
          "metadata": {}
        },
        {
          "output_type": "stream",
          "name": "stdout",
          "text": [
            "Saving Crop_recommendation.csv to Crop_recommendation.csv\n"
          ]
        }
      ],
      "source": [
        "from google.colab import files\n",
        "uploaded = files.upload()"
      ]
    },
    {
      "cell_type": "code",
      "source": [
        "import pandas as pd\n",
        "import numpy as np\n",
        "import matplotlib.pyplot as plt\n",
        "%matplotlib inline\n",
        "import seaborn as sns\n"
      ],
      "metadata": {
        "id": "h-udfuEX7N3K"
      },
      "execution_count": null,
      "outputs": []
    },
    {
      "cell_type": "code",
      "source": [
        "cp=pd.read_csv(\"Crop_recommendation.csv\")"
      ],
      "metadata": {
        "id": "dP6ydTfd8CON"
      },
      "execution_count": null,
      "outputs": []
    },
    {
      "cell_type": "code",
      "source": [
        "cp.head()"
      ],
      "metadata": {
        "colab": {
          "base_uri": "https://localhost:8080/",
          "height": 206
        },
        "id": "kArUfrn_8L80",
        "outputId": "fe8e174a-1893-4857-e13d-75a8373df521"
      },
      "execution_count": null,
      "outputs": [
        {
          "output_type": "execute_result",
          "data": {
            "text/html": [
              "\n",
              "  <div id=\"df-de6db818-fce5-499b-a898-f95fbb57d7c7\">\n",
              "    <div class=\"colab-df-container\">\n",
              "      <div>\n",
              "<style scoped>\n",
              "    .dataframe tbody tr th:only-of-type {\n",
              "        vertical-align: middle;\n",
              "    }\n",
              "\n",
              "    .dataframe tbody tr th {\n",
              "        vertical-align: top;\n",
              "    }\n",
              "\n",
              "    .dataframe thead th {\n",
              "        text-align: right;\n",
              "    }\n",
              "</style>\n",
              "<table border=\"1\" class=\"dataframe\">\n",
              "  <thead>\n",
              "    <tr style=\"text-align: right;\">\n",
              "      <th></th>\n",
              "      <th>N</th>\n",
              "      <th>P</th>\n",
              "      <th>K</th>\n",
              "      <th>temperature</th>\n",
              "      <th>humidity</th>\n",
              "      <th>ph</th>\n",
              "      <th>rainfall</th>\n",
              "      <th>label</th>\n",
              "      <th>Area</th>\n",
              "      <th>Production</th>\n",
              "      <th>Code</th>\n",
              "    </tr>\n",
              "  </thead>\n",
              "  <tbody>\n",
              "    <tr>\n",
              "      <th>0</th>\n",
              "      <td>90</td>\n",
              "      <td>42</td>\n",
              "      <td>43</td>\n",
              "      <td>20.879744</td>\n",
              "      <td>82.002744</td>\n",
              "      <td>6.502985</td>\n",
              "      <td>202.935536</td>\n",
              "      <td>rice</td>\n",
              "      <td>14512</td>\n",
              "      <td>22405.0</td>\n",
              "      <td>1</td>\n",
              "    </tr>\n",
              "    <tr>\n",
              "      <th>1</th>\n",
              "      <td>85</td>\n",
              "      <td>58</td>\n",
              "      <td>41</td>\n",
              "      <td>21.770462</td>\n",
              "      <td>80.319644</td>\n",
              "      <td>7.038096</td>\n",
              "      <td>226.655537</td>\n",
              "      <td>rice</td>\n",
              "      <td>8366</td>\n",
              "      <td>15865.0</td>\n",
              "      <td>1</td>\n",
              "    </tr>\n",
              "    <tr>\n",
              "      <th>2</th>\n",
              "      <td>60</td>\n",
              "      <td>55</td>\n",
              "      <td>44</td>\n",
              "      <td>23.004459</td>\n",
              "      <td>82.320763</td>\n",
              "      <td>7.840207</td>\n",
              "      <td>263.964248</td>\n",
              "      <td>rice</td>\n",
              "      <td>5320</td>\n",
              "      <td>11416.0</td>\n",
              "      <td>1</td>\n",
              "    </tr>\n",
              "    <tr>\n",
              "      <th>3</th>\n",
              "      <td>74</td>\n",
              "      <td>35</td>\n",
              "      <td>40</td>\n",
              "      <td>26.491096</td>\n",
              "      <td>80.158363</td>\n",
              "      <td>6.980401</td>\n",
              "      <td>242.864034</td>\n",
              "      <td>rice</td>\n",
              "      <td>4401</td>\n",
              "      <td>7842.0</td>\n",
              "      <td>1</td>\n",
              "    </tr>\n",
              "    <tr>\n",
              "      <th>4</th>\n",
              "      <td>78</td>\n",
              "      <td>42</td>\n",
              "      <td>42</td>\n",
              "      <td>20.130175</td>\n",
              "      <td>81.604873</td>\n",
              "      <td>7.628473</td>\n",
              "      <td>262.717340</td>\n",
              "      <td>rice</td>\n",
              "      <td>3700</td>\n",
              "      <td>7645.0</td>\n",
              "      <td>1</td>\n",
              "    </tr>\n",
              "  </tbody>\n",
              "</table>\n",
              "</div>\n",
              "      <button class=\"colab-df-convert\" onclick=\"convertToInteractive('df-de6db818-fce5-499b-a898-f95fbb57d7c7')\"\n",
              "              title=\"Convert this dataframe to an interactive table.\"\n",
              "              style=\"display:none;\">\n",
              "        \n",
              "  <svg xmlns=\"http://www.w3.org/2000/svg\" height=\"24px\"viewBox=\"0 0 24 24\"\n",
              "       width=\"24px\">\n",
              "    <path d=\"M0 0h24v24H0V0z\" fill=\"none\"/>\n",
              "    <path d=\"M18.56 5.44l.94 2.06.94-2.06 2.06-.94-2.06-.94-.94-2.06-.94 2.06-2.06.94zm-11 1L8.5 8.5l.94-2.06 2.06-.94-2.06-.94L8.5 2.5l-.94 2.06-2.06.94zm10 10l.94 2.06.94-2.06 2.06-.94-2.06-.94-.94-2.06-.94 2.06-2.06.94z\"/><path d=\"M17.41 7.96l-1.37-1.37c-.4-.4-.92-.59-1.43-.59-.52 0-1.04.2-1.43.59L10.3 9.45l-7.72 7.72c-.78.78-.78 2.05 0 2.83L4 21.41c.39.39.9.59 1.41.59.51 0 1.02-.2 1.41-.59l7.78-7.78 2.81-2.81c.8-.78.8-2.07 0-2.86zM5.41 20L4 18.59l7.72-7.72 1.47 1.35L5.41 20z\"/>\n",
              "  </svg>\n",
              "      </button>\n",
              "      \n",
              "  <style>\n",
              "    .colab-df-container {\n",
              "      display:flex;\n",
              "      flex-wrap:wrap;\n",
              "      gap: 12px;\n",
              "    }\n",
              "\n",
              "    .colab-df-convert {\n",
              "      background-color: #E8F0FE;\n",
              "      border: none;\n",
              "      border-radius: 50%;\n",
              "      cursor: pointer;\n",
              "      display: none;\n",
              "      fill: #1967D2;\n",
              "      height: 32px;\n",
              "      padding: 0 0 0 0;\n",
              "      width: 32px;\n",
              "    }\n",
              "\n",
              "    .colab-df-convert:hover {\n",
              "      background-color: #E2EBFA;\n",
              "      box-shadow: 0px 1px 2px rgba(60, 64, 67, 0.3), 0px 1px 3px 1px rgba(60, 64, 67, 0.15);\n",
              "      fill: #174EA6;\n",
              "    }\n",
              "\n",
              "    [theme=dark] .colab-df-convert {\n",
              "      background-color: #3B4455;\n",
              "      fill: #D2E3FC;\n",
              "    }\n",
              "\n",
              "    [theme=dark] .colab-df-convert:hover {\n",
              "      background-color: #434B5C;\n",
              "      box-shadow: 0px 1px 3px 1px rgba(0, 0, 0, 0.15);\n",
              "      filter: drop-shadow(0px 1px 2px rgba(0, 0, 0, 0.3));\n",
              "      fill: #FFFFFF;\n",
              "    }\n",
              "  </style>\n",
              "\n",
              "      <script>\n",
              "        const buttonEl =\n",
              "          document.querySelector('#df-de6db818-fce5-499b-a898-f95fbb57d7c7 button.colab-df-convert');\n",
              "        buttonEl.style.display =\n",
              "          google.colab.kernel.accessAllowed ? 'block' : 'none';\n",
              "\n",
              "        async function convertToInteractive(key) {\n",
              "          const element = document.querySelector('#df-de6db818-fce5-499b-a898-f95fbb57d7c7');\n",
              "          const dataTable =\n",
              "            await google.colab.kernel.invokeFunction('convertToInteractive',\n",
              "                                                     [key], {});\n",
              "          if (!dataTable) return;\n",
              "\n",
              "          const docLinkHtml = 'Like what you see? Visit the ' +\n",
              "            '<a target=\"_blank\" href=https://colab.research.google.com/notebooks/data_table.ipynb>data table notebook</a>'\n",
              "            + ' to learn more about interactive tables.';\n",
              "          element.innerHTML = '';\n",
              "          dataTable['output_type'] = 'display_data';\n",
              "          await google.colab.output.renderOutput(dataTable, element);\n",
              "          const docLink = document.createElement('div');\n",
              "          docLink.innerHTML = docLinkHtml;\n",
              "          element.appendChild(docLink);\n",
              "        }\n",
              "      </script>\n",
              "    </div>\n",
              "  </div>\n",
              "  "
            ],
            "text/plain": [
              "    N   P   K  temperature  ...  label   Area  Production Code\n",
              "0  90  42  43    20.879744  ...   rice  14512     22405.0    1\n",
              "1  85  58  41    21.770462  ...   rice   8366     15865.0    1\n",
              "2  60  55  44    23.004459  ...   rice   5320     11416.0    1\n",
              "3  74  35  40    26.491096  ...   rice   4401      7842.0    1\n",
              "4  78  42  42    20.130175  ...   rice   3700      7645.0    1\n",
              "\n",
              "[5 rows x 11 columns]"
            ]
          },
          "metadata": {},
          "execution_count": 4
        }
      ]
    },
    {
      "cell_type": "code",
      "source": [
        "cp.info()"
      ],
      "metadata": {
        "colab": {
          "base_uri": "https://localhost:8080/"
        },
        "id": "3VTVE2gi8OC6",
        "outputId": "c93af1d9-f6f4-4753-dde2-26af8996b325"
      },
      "execution_count": null,
      "outputs": [
        {
          "output_type": "error",
          "ename": "NameError",
          "evalue": "ignored",
          "traceback": [
            "\u001b[0;31m---------------------------------------------------------------------------\u001b[0m",
            "\u001b[0;31mNameError\u001b[0m                                 Traceback (most recent call last)",
            "\u001b[0;32m<ipython-input-1-d66863af86a0>\u001b[0m in \u001b[0;36m<module>\u001b[0;34m()\u001b[0m\n\u001b[0;32m----> 1\u001b[0;31m \u001b[0mcp\u001b[0m\u001b[0;34m.\u001b[0m\u001b[0minfo\u001b[0m\u001b[0;34m(\u001b[0m\u001b[0;34m)\u001b[0m\u001b[0;34m\u001b[0m\u001b[0;34m\u001b[0m\u001b[0m\n\u001b[0m",
            "\u001b[0;31mNameError\u001b[0m: name 'cp' is not defined"
          ]
        }
      ]
    },
    {
      "cell_type": "code",
      "source": [
        "cp['Production']=cp['Production'].astype(str).astype(float)"
      ],
      "metadata": {
        "id": "F3IL-rNkFAP5"
      },
      "execution_count": null,
      "outputs": []
    },
    {
      "cell_type": "code",
      "source": [
        "cp.columns"
      ],
      "metadata": {
        "colab": {
          "base_uri": "https://localhost:8080/"
        },
        "id": "UwVoQTDT8X34",
        "outputId": "9f132f5f-82b6-49c5-ac78-b2d1959a6b6c"
      },
      "execution_count": null,
      "outputs": [
        {
          "output_type": "execute_result",
          "data": {
            "text/plain": [
              "Index(['N', 'P', 'K', 'temperature', 'humidity', 'ph', 'rainfall', 'label',\n",
              "       'Area', 'Production', 'Code'],\n",
              "      dtype='object')"
            ]
          },
          "metadata": {},
          "execution_count": 7
        }
      ]
    },
    {
      "cell_type": "code",
      "source": [
        "cp.shape"
      ],
      "metadata": {
        "colab": {
          "base_uri": "https://localhost:8080/"
        },
        "id": "E6NhKRMX9vZ0",
        "outputId": "e91138e4-3124-4700-f8c5-e21b0ebdd725"
      },
      "execution_count": null,
      "outputs": [
        {
          "output_type": "execute_result",
          "data": {
            "text/plain": [
              "(2100, 11)"
            ]
          },
          "metadata": {},
          "execution_count": 8
        }
      ]
    },
    {
      "cell_type": "code",
      "source": [
        "cp['label'].unique()"
      ],
      "metadata": {
        "colab": {
          "base_uri": "https://localhost:8080/"
        },
        "id": "uY8OQ3SBHl1d",
        "outputId": "ce6d8d29-5e0f-4f92-efe7-7cb6a0fccbdd"
      },
      "execution_count": null,
      "outputs": [
        {
          "output_type": "execute_result",
          "data": {
            "text/plain": [
              "array(['rice', 'maize', 'kidneybeans', 'pigeonpeas', 'mothbeans',\n",
              "       'mungbean', 'blackgram', 'lentil', 'pomegranate', 'banana',\n",
              "       'mango', 'grapes', 'watermelon', 'muskmelon', 'apple', 'orange',\n",
              "       'papaya', 'coconut', 'cotton', 'jute', 'coffee'], dtype=object)"
            ]
          },
          "metadata": {},
          "execution_count": 9
        }
      ]
    },
    {
      "cell_type": "code",
      "source": [
        "cp.label.unique()"
      ],
      "metadata": {
        "colab": {
          "base_uri": "https://localhost:8080/"
        },
        "id": "uovnT1uG9xnv",
        "outputId": "31877e35-1e2f-485b-ed0c-db4ff64bb3ea"
      },
      "execution_count": null,
      "outputs": [
        {
          "output_type": "execute_result",
          "data": {
            "text/plain": [
              "array(['rice', 'maize', 'kidneybeans', 'pigeonpeas', 'mothbeans',\n",
              "       'mungbean', 'blackgram', 'lentil', 'pomegranate', 'banana',\n",
              "       'mango', 'grapes', 'watermelon', 'muskmelon', 'apple', 'orange',\n",
              "       'papaya', 'coconut', 'cotton', 'jute', 'coffee'], dtype=object)"
            ]
          },
          "metadata": {},
          "execution_count": 16
        }
      ]
    },
    {
      "cell_type": "code",
      "source": [
        "cp.label.value_counts()"
      ],
      "metadata": {
        "colab": {
          "base_uri": "https://localhost:8080/"
        },
        "id": "WdQ9C5Av90Xk",
        "outputId": "8f12bdc9-8ee3-46bd-a92a-f80cf27217b9"
      },
      "execution_count": null,
      "outputs": [
        {
          "output_type": "execute_result",
          "data": {
            "text/plain": [
              "muskmelon      100\n",
              "grapes         100\n",
              "mango          100\n",
              "coffee         100\n",
              "papaya         100\n",
              "mungbean       100\n",
              "watermelon     100\n",
              "maize          100\n",
              "pomegranate    100\n",
              "orange         100\n",
              "mothbeans      100\n",
              "banana         100\n",
              "kidneybeans    100\n",
              "jute           100\n",
              "lentil         100\n",
              "pigeonpeas     100\n",
              "cotton         100\n",
              "apple          100\n",
              "coconut        100\n",
              "rice           100\n",
              "blackgram      100\n",
              "Name: label, dtype: int64"
            ]
          },
          "metadata": {},
          "execution_count": 17
        }
      ]
    },
    {
      "cell_type": "code",
      "source": [
        "fig,ax= plt.subplots(1,1, figsize=(15,9))\n",
        "sns.heatmap(cp.corr(), annot=True, cmap='viridis')\n",
        "ax.set(xlabel='features')\n",
        "ax.set(ylabel='features')\n",
        "plt.title('Correlation between different features',\n",
        "          fontsize=10,\n",
        "          c='black')\n",
        "plt.show()\n"
      ],
      "metadata": {
        "colab": {
          "base_uri": "https://localhost:8080/",
          "height": 564
        },
        "id": "khG25rhw9-Zp",
        "outputId": "48b135b3-2123-42b3-a3ec-83598fd37e5c"
      },
      "execution_count": null,
      "outputs": [
        {
          "output_type": "display_data",
          "data": {
            "image/png": "[encoded data removed]",
            "text/plain": [
              "<Figure size 1080x648 with 2 Axes>"
            ]
          },
          "metadata": {
            "needs_background": "light"
          }
        }
      ]
    },
    {
      "cell_type": "code",
      "source": [
        "crop_summary = pd.pivot_table(cp, index=['label'], \n",
        "aggfunc='mean')\n",
        "crop_summary.tail()"
      ],
      "metadata": {
        "colab": {
          "base_uri": "https://localhost:8080/",
          "height": 237
        },
        "id": "ljtHz2qZ-77P",
        "outputId": "fe89e133-da2e-4b4b-d5c6-0a988dc975e3"
      },
      "execution_count": null,
      "outputs": [
        {
          "output_type": "execute_result",
          "data": {
            "text/html": [
              "\n",
              "  <div id=\"df-ab6deef1-758d-417a-a249-95f637abf967\">\n",
              "    <div class=\"colab-df-container\">\n",
              "      <div>\n",
              "<style scoped>\n",
              "    .dataframe tbody tr th:only-of-type {\n",
              "        vertical-align: middle;\n",
              "    }\n",
              "\n",
              "    .dataframe tbody tr th {\n",
              "        vertical-align: top;\n",
              "    }\n",
              "\n",
              "    .dataframe thead th {\n",
              "        text-align: right;\n",
              "    }\n",
              "</style>\n",
              "<table border=\"1\" class=\"dataframe\">\n",
              "  <thead>\n",
              "    <tr style=\"text-align: right;\">\n",
              "      <th></th>\n",
              "      <th>Area</th>\n",
              "      <th>Code</th>\n",
              "      <th>K</th>\n",
              "      <th>N</th>\n",
              "      <th>P</th>\n",
              "      <th>Production</th>\n",
              "      <th>humidity</th>\n",
              "      <th>ph</th>\n",
              "      <th>rainfall</th>\n",
              "      <th>temperature</th>\n",
              "    </tr>\n",
              "    <tr>\n",
              "      <th>label</th>\n",
              "      <th></th>\n",
              "      <th></th>\n",
              "      <th></th>\n",
              "      <th></th>\n",
              "      <th></th>\n",
              "      <th></th>\n",
              "      <th></th>\n",
              "      <th></th>\n",
              "      <th></th>\n",
              "      <th></th>\n",
              "    </tr>\n",
              "  </thead>\n",
              "  <tbody>\n",
              "    <tr>\n",
              "      <th>papaya</th>\n",
              "      <td>591.04</td>\n",
              "      <td>17</td>\n",
              "      <td>50.04</td>\n",
              "      <td>49.88</td>\n",
              "      <td>59.05</td>\n",
              "      <td>16706.38</td>\n",
              "      <td>92.403388</td>\n",
              "      <td>6.741442</td>\n",
              "      <td>142.627839</td>\n",
              "      <td>33.723859</td>\n",
              "    </tr>\n",
              "    <tr>\n",
              "      <th>pigeonpeas</th>\n",
              "      <td>3044.53</td>\n",
              "      <td>4</td>\n",
              "      <td>20.29</td>\n",
              "      <td>20.73</td>\n",
              "      <td>67.73</td>\n",
              "      <td>5531.33</td>\n",
              "      <td>48.061633</td>\n",
              "      <td>5.794175</td>\n",
              "      <td>149.457564</td>\n",
              "      <td>27.741762</td>\n",
              "    </tr>\n",
              "    <tr>\n",
              "      <th>pomegranate</th>\n",
              "      <td>2838.94</td>\n",
              "      <td>9</td>\n",
              "      <td>40.21</td>\n",
              "      <td>18.87</td>\n",
              "      <td>18.75</td>\n",
              "      <td>1210.72</td>\n",
              "      <td>90.125504</td>\n",
              "      <td>6.429172</td>\n",
              "      <td>107.528442</td>\n",
              "      <td>21.837842</td>\n",
              "    </tr>\n",
              "    <tr>\n",
              "      <th>rice</th>\n",
              "      <td>50847.84</td>\n",
              "      <td>1</td>\n",
              "      <td>39.87</td>\n",
              "      <td>79.89</td>\n",
              "      <td>47.58</td>\n",
              "      <td>115067.17</td>\n",
              "      <td>82.272822</td>\n",
              "      <td>6.425471</td>\n",
              "      <td>236.181114</td>\n",
              "      <td>23.689332</td>\n",
              "    </tr>\n",
              "    <tr>\n",
              "      <th>watermelon</th>\n",
              "      <td>127.02</td>\n",
              "      <td>13</td>\n",
              "      <td>50.22</td>\n",
              "      <td>99.42</td>\n",
              "      <td>17.00</td>\n",
              "      <td>0.00</td>\n",
              "      <td>85.160375</td>\n",
              "      <td>6.495778</td>\n",
              "      <td>50.786219</td>\n",
              "      <td>25.591767</td>\n",
              "    </tr>\n",
              "  </tbody>\n",
              "</table>\n",
              "</div>\n",
              "      <button class=\"colab-df-convert\" onclick=\"convertToInteractive('df-ab6deef1-758d-417a-a249-95f637abf967')\"\n",
              "              title=\"Convert this dataframe to an interactive table.\"\n",
              "              style=\"display:none;\">\n",
              "        \n",
              "  <svg xmlns=\"http://www.w3.org/2000/svg\" height=\"24px\"viewBox=\"0 0 24 24\"\n",
              "       width=\"24px\">\n",
              "    <path d=\"M0 0h24v24H0V0z\" fill=\"none\"/>\n",
              "    <path d=\"M18.56 5.44l.94 2.06.94-2.06 2.06-.94-2.06-.94-.94-2.06-.94 2.06-2.06.94zm-11 1L8.5 8.5l.94-2.06 2.06-.94-2.06-.94L8.5 2.5l-.94 2.06-2.06.94zm10 10l.94 2.06.94-2.06 2.06-.94-2.06-.94-.94-2.06-.94 2.06-2.06.94z\"/><path d=\"M17.41 7.96l-1.37-1.37c-.4-.4-.92-.59-1.43-.59-.52 0-1.04.2-1.43.59L10.3 9.45l-7.72 7.72c-.78.78-.78 2.05 0 2.83L4 21.41c.39.39.9.59 1.41.59.51 0 1.02-.2 1.41-.59l7.78-7.78 2.81-2.81c.8-.78.8-2.07 0-2.86zM5.41 20L4 18.59l7.72-7.72 1.47 1.35L5.41 20z\"/>\n",
              "  </svg>\n",
              "      </button>\n",
              "      \n",
              "  <style>\n",
              "    .colab-df-container {\n",
              "      display:flex;\n",
              "      flex-wrap:wrap;\n",
              "      gap: 12px;\n",
              "    }\n",
              "\n",
              "    .colab-df-convert {\n",
              "      background-color: #E8F0FE;\n",
              "      border: none;\n",
              "      border-radius: 50%;\n",
              "      cursor: pointer;\n",
              "      display: none;\n",
              "      fill: #1967D2;\n",
              "      height: 32px;\n",
              "      padding: 0 0 0 0;\n",
              "      width: 32px;\n",
              "    }\n",
              "\n",
              "    .colab-df-convert:hover {\n",
              "      background-color: #E2EBFA;\n",
              "      box-shadow: 0px 1px 2px rgba(60, 64, 67, 0.3), 0px 1px 3px 1px rgba(60, 64, 67, 0.15);\n",
              "      fill: #174EA6;\n",
              "    }\n",
              "\n",
              "    [theme=dark] .colab-df-convert {\n",
              "      background-color: #3B4455;\n",
              "      fill: #D2E3FC;\n",
              "    }\n",
              "\n",
              "    [theme=dark] .colab-df-convert:hover {\n",
              "      background-color: #434B5C;\n",
              "      box-shadow: 0px 1px 3px 1px rgba(0, 0, 0, 0.15);\n",
              "      filter: drop-shadow(0px 1px 2px rgba(0, 0, 0, 0.3));\n",
              "      fill: #FFFFFF;\n",
              "    }\n",
              "  </style>\n",
              "\n",
              "      <script>\n",
              "        const buttonEl =\n",
              "          document.querySelector('#df-ab6deef1-758d-417a-a249-95f637abf967 button.colab-df-convert');\n",
              "        buttonEl.style.display =\n",
              "          google.colab.kernel.accessAllowed ? 'block' : 'none';\n",
              "\n",
              "        async function convertToInteractive(key) {\n",
              "          const element = document.querySelector('#df-ab6deef1-758d-417a-a249-95f637abf967');\n",
              "          const dataTable =\n",
              "            await google.colab.kernel.invokeFunction('convertToInteractive',\n",
              "                                                     [key], {});\n",
              "          if (!dataTable) return;\n",
              "\n",
              "          const docLinkHtml = 'Like what you see? Visit the ' +\n",
              "            '<a target=\"_blank\" href=https://colab.research.google.com/notebooks/data_table.ipynb>data table notebook</a>'\n",
              "            + ' to learn more about interactive tables.';\n",
              "          element.innerHTML = '';\n",
              "          dataTable['output_type'] = 'display_data';\n",
              "          await google.colab.output.renderOutput(dataTable, element);\n",
              "          const docLink = document.createElement('div');\n",
              "          docLink.innerHTML = docLinkHtml;\n",
              "          element.appendChild(docLink);\n",
              "        }\n",
              "      </script>\n",
              "    </div>\n",
              "  </div>\n",
              "  "
            ],
            "text/plain": [
              "                 Area  Code      K  ...        ph    rainfall  temperature\n",
              "label                               ...                                   \n",
              "papaya         591.04    17  50.04  ...  6.741442  142.627839    33.723859\n",
              "pigeonpeas    3044.53     4  20.29  ...  5.794175  149.457564    27.741762\n",
              "pomegranate   2838.94     9  40.21  ...  6.429172  107.528442    21.837842\n",
              "rice         50847.84     1  39.87  ...  6.425471  236.181114    23.689332\n",
              "watermelon     127.02    13  50.22  ...  6.495778   50.786219    25.591767\n",
              "\n",
              "[5 rows x 10 columns]"
            ]
          },
          "metadata": {},
          "execution_count": 11
        }
      ]
    },
    {
      "cell_type": "code",
      "source": [
        "# Feature selection\n",
        "\n",
        "features=cp[['N','P','K','temperature','humidity','ph','rainfall']]\n",
        "target = cp['Code']"
      ],
      "metadata": {
        "id": "XkHw6oSZ_UH4"
      },
      "execution_count": null,
      "outputs": []
    },
    {
      "cell_type": "code",
      "source": [
        "# For crop yield prediction (feature selection)\n",
        "f= cp[['N','P','K','temperature','humidity','ph','rainfall','Area','Code']]\n",
        "t= cp['Production']"
      ],
      "metadata": {
        "id": "UqfsYZxLYVda"
      },
      "execution_count": null,
      "outputs": []
    },
    {
      "cell_type": "code",
      "source": [
        "from sklearn.model_selection import train_test_split\n",
        "X_ptrain,X_ptest,y_ptrain,y_ptest=train_test_split(f,t,test_size=0.2,random_state=2)"
      ],
      "metadata": {
        "id": "oiI6-S0aYxFR"
      },
      "execution_count": null,
      "outputs": []
    },
    {
      "cell_type": "code",
      "source": [
        "# Random Forest for crop yield prediction\n",
        "from sklearn.ensemble import RandomForestClassifier\n",
        "\n",
        "RF = RandomForestClassifier(n_estimators=20, random_state=0)\n",
        "RF.fit(X_ptrain,y_ptrain)\n",
        "y_yield = RF.predict(X_ptest)\n",
        "y_yield\n"
      ],
      "metadata": {
        "id": "nLpkp7a7Y6RM",
        "colab": {
          "base_uri": "https://localhost:8080/"
        },
        "outputId": "bd8eb87c-eb17-4255-d477-63c6a769e668"
      },
      "execution_count": null,
      "outputs": [
        {
          "output_type": "execute_result",
          "data": {
            "text/plain": [
              "array([2.00000e+00, 0.00000e+00, 2.33800e+03, 2.95000e+02, 0.00000e+00,\n",
              "       0.00000e+00, 3.18000e+02, 1.46000e+02, 0.00000e+00, 0.00000e+00,\n",
              "       1.83400e+03, 0.00000e+00, 8.50000e+01, 1.65300e+03, 1.95000e+02,\n",
              "       0.00000e+00, 1.60000e+03, 0.00000e+00, 2.55000e+02, 0.00000e+00,\n",
              "       2.18400e+03, 0.00000e+00, 0.00000e+00, 1.00000e+02, 4.58200e+03,\n",
              "       4.74900e+03, 9.33000e+02, 1.43000e+02, 0.00000e+00, 4.10000e+01,\n",
              "       5.81000e+02, 1.59700e+03, 0.00000e+00, 4.05000e+02, 2.50350e+04,\n",
              "       1.68300e+03, 2.18400e+03, 3.16000e+02, 0.00000e+00, 1.30100e+03,\n",
              "       1.45000e+03, 0.00000e+00, 1.51000e+02, 7.49000e+02, 5.86000e+02,\n",
              "       5.49000e+03, 2.20000e+01, 1.45000e+02, 0.00000e+00, 5.00000e+00,\n",
              "       0.00000e+00, 0.00000e+00, 1.43000e+02, 2.26800e+03, 0.00000e+00,\n",
              "       5.58100e+03, 0.00000e+00, 1.13490e+04, 1.51000e+02, 4.50000e+02,\n",
              "       3.47800e+03, 0.00000e+00, 2.69000e+02, 7.49000e+02, 1.77700e+03,\n",
              "       6.48000e+02, 3.60000e+01, 1.04400e+03, 8.25000e+02, 1.39500e+03,\n",
              "       2.46800e+03, 0.00000e+00, 5.37000e+02, 1.40000e+01, 0.00000e+00,\n",
              "       1.34400e+03, 0.00000e+00, 3.60000e+01, 0.00000e+00, 0.00000e+00,\n",
              "       0.00000e+00, 2.13200e+03, 9.33000e+02, 1.51000e+02, 2.13000e+03,\n",
              "       0.00000e+00, 0.00000e+00, 5.90800e+03, 2.13200e+03, 5.75200e+03,\n",
              "       3.38000e+03, 0.00000e+00, 0.00000e+00, 1.60000e+01, 0.00000e+00,\n",
              "       0.00000e+00, 0.00000e+00, 2.15000e+03, 1.75000e+02, 9.70000e+01,\n",
              "       9.40520e+04, 2.00000e+02, 1.17640e+04, 6.55000e+02, 0.00000e+00,\n",
              "       4.58200e+03, 3.50000e+01, 1.68500e+03, 1.10000e+01, 5.54000e+02,\n",
              "       0.00000e+00, 3.53000e+02, 2.43200e+03, 0.00000e+00, 2.21000e+02,\n",
              "       0.00000e+00, 2.42640e+04, 2.85510e+05, 3.82000e+02, 0.00000e+00,\n",
              "       2.18400e+03, 1.80000e+01, 5.09000e+02, 1.71100e+03, 3.10000e+03,\n",
              "       0.00000e+00, 7.89100e+03, 2.26000e+02, 4.52000e+02, 5.75200e+03,\n",
              "       7.49000e+02, 3.50000e+01, 3.73700e+03, 1.10000e+01, 1.50000e+01,\n",
              "       1.10000e+03, 2.80000e+01, 0.00000e+00, 0.00000e+00, 1.42500e+04,\n",
              "       2.11000e+02, 1.56920e+04, 5.12400e+03, 2.18400e+03, 1.50000e+01,\n",
              "       3.83000e+02, 1.24300e+03, 1.51000e+02, 0.00000e+00, 0.00000e+00,\n",
              "       0.00000e+00, 1.27200e+03, 0.00000e+00, 6.55000e+02, 1.01860e+04,\n",
              "       2.15900e+03, 0.00000e+00, 2.48900e+04, 3.71100e+03, 2.00000e+00,\n",
              "       1.61000e+03, 1.74100e+03, 8.39100e+03, 0.00000e+00, 1.68300e+03,\n",
              "       2.17700e+03, 2.21200e+03, 1.30100e+03, 7.00000e+00, 2.30000e+01,\n",
              "       1.13490e+04, 1.45000e+03, 2.69000e+02, 1.03200e+03, 3.03000e+03,\n",
              "       0.00000e+00, 0.00000e+00, 1.29600e+03, 2.00000e+02, 1.20610e+04,\n",
              "       8.93000e+02, 2.12900e+03, 2.00000e+00, 0.00000e+00, 0.00000e+00,\n",
              "       0.00000e+00, 0.00000e+00, 0.00000e+00, 5.81000e+02, 3.64020e+04,\n",
              "       0.00000e+00, 2.82900e+03, 0.00000e+00, 2.10000e+02, 1.44140e+04,\n",
              "       0.00000e+00, 7.63000e+02, 0.00000e+00, 5.00000e+00, 1.61170e+04,\n",
              "       4.19000e+02, 0.00000e+00, 0.00000e+00, 2.01800e+03, 1.04600e+03,\n",
              "       5.80000e+01, 6.65000e+02, 9.35500e+03, 1.86000e+02, 1.33800e+03,\n",
              "       0.00000e+00, 5.97000e+02, 0.00000e+00, 1.06000e+02, 6.15200e+03,\n",
              "       0.00000e+00, 5.68800e+03, 4.93000e+02, 7.89100e+03, 0.00000e+00,\n",
              "       5.00000e+00, 6.80000e+01, 1.50300e+03, 1.43500e+03, 1.97000e+03,\n",
              "       0.00000e+00, 5.90000e+01, 2.07070e+04, 0.00000e+00, 1.42000e+02,\n",
              "       2.00000e+03, 0.00000e+00, 2.81500e+03, 0.00000e+00, 1.43000e+02,\n",
              "       0.00000e+00, 0.00000e+00, 2.82900e+03, 1.11000e+03, 0.00000e+00,\n",
              "       8.88830e+04, 1.10000e+01, 0.00000e+00, 4.09000e+03, 5.00000e+00,\n",
              "       1.11000e+03, 3.53000e+02, 0.00000e+00, 1.34400e+03, 0.00000e+00,\n",
              "       1.97000e+03, 0.00000e+00, 1.00000e+00, 5.40000e+02, 1.71100e+03,\n",
              "       4.05000e+02, 4.24000e+02, 2.00000e+00, 0.00000e+00, 2.40000e+01,\n",
              "       1.00000e+00, 3.30000e+01, 2.20000e+01, 6.30900e+03, 2.00000e+01,\n",
              "       0.00000e+00, 3.53000e+02, 2.06000e+02, 2.88800e+03, 1.41700e+03,\n",
              "       2.30000e+01, 0.00000e+00, 1.11300e+03, 0.00000e+00, 0.00000e+00,\n",
              "       2.46800e+03, 1.00000e+00, 2.21200e+03, 3.40000e+01, 3.60000e+02,\n",
              "       9.70000e+01, 4.93000e+02, 2.00000e+02, 2.90000e+01, 3.65940e+04,\n",
              "       1.12500e+03, 6.85500e+03, 0.00000e+00, 0.00000e+00, 2.00000e+02,\n",
              "       0.00000e+00, 1.60000e+01, 5.93080e+04, 0.00000e+00, 0.00000e+00,\n",
              "       0.00000e+00, 0.00000e+00, 3.00000e+01, 1.15000e+02, 8.25000e+02,\n",
              "       0.00000e+00, 0.00000e+00, 1.21690e+04, 1.46000e+02, 1.06000e+02,\n",
              "       0.00000e+00, 3.77540e+04, 1.73000e+03, 1.30800e+03, 3.70000e+01,\n",
              "       3.90200e+03, 0.00000e+00, 9.27400e+03, 6.76000e+02, 2.82000e+02,\n",
              "       0.00000e+00, 1.40000e+02, 3.38000e+03, 3.83400e+03, 1.81240e+04,\n",
              "       0.00000e+00, 0.00000e+00, 0.00000e+00, 3.83000e+02, 8.80000e+03,\n",
              "       7.50900e+03, 1.25390e+04, 2.45000e+02, 6.89300e+03, 1.49330e+04,\n",
              "       0.00000e+00, 0.00000e+00, 1.60000e+01, 1.24300e+03, 2.42630e+04,\n",
              "       2.91250e+04, 1.18640e+05, 4.00000e+01, 0.00000e+00, 1.80000e+03,\n",
              "       0.00000e+00, 0.00000e+00, 5.40000e+02, 4.00000e+00, 2.06000e+02,\n",
              "       0.00000e+00, 8.82500e+03, 5.43600e+03, 1.70000e+02, 5.54000e+02,\n",
              "       2.32980e+04, 2.46800e+03, 0.00000e+00, 0.00000e+00, 0.00000e+00,\n",
              "       3.80000e+02, 0.00000e+00, 0.00000e+00, 1.12300e+03, 2.26400e+03,\n",
              "       0.00000e+00, 1.05400e+03, 2.85510e+05, 1.20900e+03, 1.73150e+04,\n",
              "       0.00000e+00, 2.00000e+00, 9.25200e+03, 1.99680e+04, 3.00000e+01,\n",
              "       1.86000e+02, 0.00000e+00, 2.37100e+03, 8.00000e+00, 1.07760e+04,\n",
              "       0.00000e+00, 5.90000e+01, 4.00000e+00, 1.70200e+03, 2.83300e+03,\n",
              "       2.82000e+02, 1.01600e+03, 2.72210e+04, 7.23300e+03, 1.40000e+01,\n",
              "       0.00000e+00, 7.10000e+01, 0.00000e+00, 2.36300e+03, 2.04728e+05,\n",
              "       2.10000e+02, 0.00000e+00, 0.00000e+00, 2.82000e+02, 1.01860e+04,\n",
              "       4.96500e+03, 3.70300e+03, 0.00000e+00, 2.50000e+01, 8.50000e+03,\n",
              "       2.38800e+03, 4.80000e+01, 3.90000e+02, 0.00000e+00, 8.93000e+02,\n",
              "       1.20000e+01, 0.00000e+00, 0.00000e+00, 0.00000e+00, 8.28910e+04,\n",
              "       2.70000e+03, 1.90000e+02, 2.10000e+01, 2.00000e+01, 0.00000e+00,\n",
              "       0.00000e+00, 0.00000e+00, 2.77000e+03, 5.01000e+02, 2.36300e+03])"
            ]
          },
          "metadata": {},
          "execution_count": 15
        }
      ]
    },
    {
      "cell_type": "code",
      "source": [
        ""
      ],
      "metadata": {
        "id": "8Iqc4_FvbH6h"
      },
      "execution_count": null,
      "outputs": []
    },
    {
      "cell_type": "code",
      "source": [
        "acc=[]\n",
        "model=[]"
      ],
      "metadata": {
        "id": "eACYRKA2_7up"
      },
      "execution_count": null,
      "outputs": []
    },
    {
      "cell_type": "code",
      "source": [
        "# Crop Recommendation\n",
        "from sklearn.model_selection import train_test_split\n",
        "X_train,X_test,y_train,y_test=train_test_split(features,target,test_size=0.2,random_state=2)"
      ],
      "metadata": {
        "id": "5Kgiyc1S_9-s"
      },
      "execution_count": null,
      "outputs": []
    },
    {
      "cell_type": "code",
      "source": [
        "# Applying K-Nearest Neighbors\n",
        "from sklearn.model_selection import cross_val_score\n",
        "from sklearn import tree\n",
        "from sklearn import metrics\n",
        "from sklearn.neighbors import KNeighborsClassifier\n",
        "knn=KNeighborsClassifier()\n",
        "\n",
        "knn.fit(X_train,y_train)\n",
        "y_preds= knn.predict(X_test)\n",
        "\n",
        "x= metrics.accuracy_score(y_test, y_preds)\n",
        "acc.append(x)\n",
        "\n",
        "model.append('K Nearest Neighbours')\n",
        "print('KNN Accuracy is :',x)"
      ],
      "metadata": {
        "colab": {
          "base_uri": "https://localhost:8080/"
        },
        "id": "Y8LeyfOJAUL8",
        "outputId": "83b6bedd-5c88-4421-b081-994a6a63f3cf"
      },
      "execution_count": null,
      "outputs": [
        {
          "output_type": "stream",
          "name": "stdout",
          "text": [
            "KNN Accuracy is : 0.9857142857142858\n"
          ]
        }
      ]
    },
    {
      "cell_type": "code",
      "source": [
        "!pip install classification_report"
      ],
      "metadata": {
        "id": "_u4l6F6dA9mZ"
      },
      "execution_count": null,
      "outputs": []
    },
    {
      "cell_type": "code",
      "source": [
        "from sklearn.metrics import classification_report"
      ],
      "metadata": {
        "id": "-lDPFEcTB9JX"
      },
      "execution_count": null,
      "outputs": []
    },
    {
      "cell_type": "code",
      "source": [
        "print(classification_report(y_test,y_preds))"
      ],
      "metadata": {
        "colab": {
          "base_uri": "https://localhost:8080/"
        },
        "id": "M73i5JPWCVup",
        "outputId": "ea04519f-b893-4cef-acd9-b91c7e073d67"
      },
      "execution_count": null,
      "outputs": [
        {
          "output_type": "stream",
          "name": "stdout",
          "text": [
            "              precision    recall  f1-score   support\n",
            "\n",
            "           1       0.94      0.84      0.89        19\n",
            "           2       1.00      1.00      1.00        18\n",
            "           3       1.00      1.00      1.00        21\n",
            "           4       1.00      0.95      0.97        20\n",
            "           5       0.95      1.00      0.98        21\n",
            "           6       1.00      1.00      1.00        21\n",
            "           7       0.96      1.00      0.98        23\n",
            "           8       1.00      0.95      0.98        22\n",
            "           9       1.00      1.00      1.00        13\n",
            "          10       1.00      1.00      1.00        18\n",
            "          11       1.00      1.00      1.00        20\n",
            "          12       1.00      1.00      1.00        18\n",
            "          13       1.00      1.00      1.00        13\n",
            "          14       1.00      1.00      1.00        22\n",
            "          15       1.00      1.00      1.00        24\n",
            "          16       1.00      1.00      1.00        21\n",
            "          17       1.00      1.00      1.00        27\n",
            "          18       1.00      1.00      1.00        19\n",
            "          19       1.00      1.00      1.00        22\n",
            "          20       0.84      0.94      0.89        17\n",
            "          21       1.00      1.00      1.00        21\n",
            "\n",
            "    accuracy                           0.99       420\n",
            "   macro avg       0.99      0.99      0.98       420\n",
            "weighted avg       0.99      0.99      0.99       420\n",
            "\n"
          ]
        }
      ]
    },
    {
      "cell_type": "code",
      "source": [
        "score= cross_val_score(knn, features, target, cv=10)\n",
        "print('Cross validation score is ',score)"
      ],
      "metadata": {
        "colab": {
          "base_uri": "https://localhost:8080/"
        },
        "id": "QejxOkfsCeoN",
        "outputId": "1f611af1-2dc4-46ff-e04a-a906936e02ea"
      },
      "execution_count": null,
      "outputs": [
        {
          "output_type": "stream",
          "name": "stdout",
          "text": [
            "Cross validation score is  [0.97142857 0.97619048 0.98095238 0.97142857 0.97619048 0.99047619\n",
            " 0.99047619 0.97619048 0.98095238 0.97142857]\n"
          ]
        }
      ]
    },
    {
      "cell_type": "code",
      "source": [
        "# Accuracy of Test and train sets\n",
        "\n",
        "print(\"KNN (Train Accuracy) \",knn.score(X_train, y_train))\n",
        "print(\"KNN (Test Accuracy) \",knn.score(X_test,y_test))"
      ],
      "metadata": {
        "colab": {
          "base_uri": "https://localhost:8080/"
        },
        "id": "CUwTp8rbCz-g",
        "outputId": "ba6ea3ef-2987-4a8d-d13b-59e72af36e2f"
      },
      "execution_count": null,
      "outputs": [
        {
          "output_type": "stream",
          "name": "stdout",
          "text": [
            "KNN (Train Accuracy)  0.9845238095238096\n",
            "KNN (Test Accuracy)  0.9857142857142858\n"
          ]
        }
      ]
    },
    {
      "cell_type": "code",
      "source": [
        "# Decision tree\n",
        "from sklearn import tree\n",
        "from sklearn.tree import DecisionTreeClassifier\n",
        "dt= DecisionTreeClassifier(criterion=\"entropy\", random_state=2, max_depth=5)\n",
        "\n",
        "dt.fit(X_train,y_train)\n",
        "y_preds= dt.predict(X_test)\n",
        "x=metrics.accuracy_score(y_test, y_preds)\n",
        "acc.append(x)\n",
        "model.append('Decision Tree')\n",
        "print(\"Accuracy of Decision Tree is\", x*100)"
      ],
      "metadata": {
        "colab": {
          "base_uri": "https://localhost:8080/"
        },
        "id": "NhDuhILhDYfj",
        "outputId": "1dda541e-dca6-4f17-dc85-f80876cbad89"
      },
      "execution_count": null,
      "outputs": [
        {
          "output_type": "stream",
          "name": "stdout",
          "text": [
            "Accuracy of Decision Tree is 92.38095238095238\n"
          ]
        }
      ]
    },
    {
      "cell_type": "code",
      "source": [
        "print(classification_report(y_test, y_preds))"
      ],
      "metadata": {
        "colab": {
          "base_uri": "https://localhost:8080/"
        },
        "id": "-HG3GWxCFL7y",
        "outputId": "129505c9-aa36-4050-9845-d2afc496bd2c"
      },
      "execution_count": null,
      "outputs": [
        {
          "output_type": "stream",
          "name": "stdout",
          "text": [
            "              precision    recall  f1-score   support\n",
            "\n",
            "           1       0.88      0.79      0.83        19\n",
            "           2       0.74      0.94      0.83        18\n",
            "           3       1.00      0.81      0.89        21\n",
            "           4       1.00      1.00      1.00        20\n",
            "           5       0.71      0.57      0.63        21\n",
            "           6       1.00      1.00      1.00        21\n",
            "           7       0.72      1.00      0.84        23\n",
            "           8       0.94      0.77      0.85        22\n",
            "           9       1.00      1.00      1.00        13\n",
            "          10       1.00      1.00      1.00        18\n",
            "          11       1.00      1.00      1.00        20\n",
            "          12       1.00      1.00      1.00        18\n",
            "          13       0.93      1.00      0.96        13\n",
            "          14       1.00      1.00      1.00        22\n",
            "          15       1.00      1.00      1.00        24\n",
            "          16       1.00      1.00      1.00        21\n",
            "          17       1.00      0.78      0.88        27\n",
            "          18       1.00      1.00      1.00        19\n",
            "          19       1.00      0.95      0.98        22\n",
            "          20       0.68      1.00      0.81        17\n",
            "          21       1.00      0.90      0.95        21\n",
            "\n",
            "    accuracy                           0.92       420\n",
            "   macro avg       0.93      0.93      0.93       420\n",
            "weighted avg       0.94      0.92      0.92       420\n",
            "\n"
          ]
        }
      ]
    },
    {
      "cell_type": "code",
      "source": [
        "# Random Forest\n",
        "from sklearn.ensemble import RandomForestClassifier\n",
        "\n",
        "RF = RandomForestClassifier(n_estimators=20, random_state=0)\n",
        "RF.fit(X_train,y_train)\n",
        "\n",
        "y_preds = RF.predict(X_test)\n",
        "\n",
        "x = metrics.accuracy_score(y_test, y_preds)\n",
        "acc.append(x)\n",
        "model.append('RF')\n",
        "print(\"Random Forest Accuracy is: \", x)\n",
        "\n",
        "print(classification_report(y_test,y_preds))"
      ],
      "metadata": {
        "colab": {
          "base_uri": "https://localhost:8080/"
        },
        "id": "hFrrwPZJGEiD",
        "outputId": "16ff5329-607b-44b1-af93-ef730472a8a8"
      },
      "execution_count": null,
      "outputs": [
        {
          "output_type": "stream",
          "name": "stdout",
          "text": [
            "Random Forest Accuracy is:  0.9857142857142858\n",
            "              precision    recall  f1-score   support\n",
            "\n",
            "           1       1.00      0.79      0.88        19\n",
            "           2       1.00      1.00      1.00        18\n",
            "           3       1.00      1.00      1.00        21\n",
            "           4       1.00      1.00      1.00        20\n",
            "           5       0.91      1.00      0.95        21\n",
            "           6       1.00      1.00      1.00        21\n",
            "           7       1.00      1.00      1.00        23\n",
            "           8       1.00      0.91      0.95        22\n",
            "           9       1.00      1.00      1.00        13\n",
            "          10       1.00      1.00      1.00        18\n",
            "          11       1.00      1.00      1.00        20\n",
            "          12       1.00      1.00      1.00        18\n",
            "          13       1.00      1.00      1.00        13\n",
            "          14       1.00      1.00      1.00        22\n",
            "          15       1.00      1.00      1.00        24\n",
            "          16       1.00      1.00      1.00        21\n",
            "          17       1.00      1.00      1.00        27\n",
            "          18       1.00      1.00      1.00        19\n",
            "          19       1.00      1.00      1.00        22\n",
            "          20       0.81      1.00      0.89        17\n",
            "          21       1.00      1.00      1.00        21\n",
            "\n",
            "    accuracy                           0.99       420\n",
            "   macro avg       0.99      0.99      0.98       420\n",
            "weighted avg       0.99      0.99      0.99       420\n",
            "\n"
          ]
        }
      ]
    },
    {
      "cell_type": "code",
      "source": [
        "cp.head()"
      ],
      "metadata": {
        "colab": {
          "base_uri": "https://localhost:8080/",
          "height": 206
        },
        "id": "ijwUv_77KmTR",
        "outputId": "50eb1db2-78ff-4fbf-f986-7037c9671397"
      },
      "execution_count": null,
      "outputs": [
        {
          "output_type": "execute_result",
          "data": {
            "text/html": [
              "\n",
              "  <div id=\"df-c84dbea0-fa4c-4e1f-b0d5-811e14520d28\">\n",
              "    <div class=\"colab-df-container\">\n",
              "      <div>\n",
              "<style scoped>\n",
              "    .dataframe tbody tr th:only-of-type {\n",
              "        vertical-align: middle;\n",
              "    }\n",
              "\n",
              "    .dataframe tbody tr th {\n",
              "        vertical-align: top;\n",
              "    }\n",
              "\n",
              "    .dataframe thead th {\n",
              "        text-align: right;\n",
              "    }\n",
              "</style>\n",
              "<table border=\"1\" class=\"dataframe\">\n",
              "  <thead>\n",
              "    <tr style=\"text-align: right;\">\n",
              "      <th></th>\n",
              "      <th>N</th>\n",
              "      <th>P</th>\n",
              "      <th>K</th>\n",
              "      <th>temperature</th>\n",
              "      <th>humidity</th>\n",
              "      <th>ph</th>\n",
              "      <th>rainfall</th>\n",
              "      <th>label</th>\n",
              "      <th>Area</th>\n",
              "      <th>Production</th>\n",
              "      <th>Code</th>\n",
              "    </tr>\n",
              "  </thead>\n",
              "  <tbody>\n",
              "    <tr>\n",
              "      <th>0</th>\n",
              "      <td>90</td>\n",
              "      <td>42</td>\n",
              "      <td>43</td>\n",
              "      <td>20.879744</td>\n",
              "      <td>82.002744</td>\n",
              "      <td>6.502985</td>\n",
              "      <td>202.935536</td>\n",
              "      <td>rice</td>\n",
              "      <td>14512</td>\n",
              "      <td>22405.0</td>\n",
              "      <td>1</td>\n",
              "    </tr>\n",
              "    <tr>\n",
              "      <th>1</th>\n",
              "      <td>85</td>\n",
              "      <td>58</td>\n",
              "      <td>41</td>\n",
              "      <td>21.770462</td>\n",
              "      <td>80.319644</td>\n",
              "      <td>7.038096</td>\n",
              "      <td>226.655537</td>\n",
              "      <td>rice</td>\n",
              "      <td>8366</td>\n",
              "      <td>15865.0</td>\n",
              "      <td>1</td>\n",
              "    </tr>\n",
              "    <tr>\n",
              "      <th>2</th>\n",
              "      <td>60</td>\n",
              "      <td>55</td>\n",
              "      <td>44</td>\n",
              "      <td>23.004459</td>\n",
              "      <td>82.320763</td>\n",
              "      <td>7.840207</td>\n",
              "      <td>263.964248</td>\n",
              "      <td>rice</td>\n",
              "      <td>5320</td>\n",
              "      <td>11416.0</td>\n",
              "      <td>1</td>\n",
              "    </tr>\n",
              "    <tr>\n",
              "      <th>3</th>\n",
              "      <td>74</td>\n",
              "      <td>35</td>\n",
              "      <td>40</td>\n",
              "      <td>26.491096</td>\n",
              "      <td>80.158363</td>\n",
              "      <td>6.980401</td>\n",
              "      <td>242.864034</td>\n",
              "      <td>rice</td>\n",
              "      <td>4401</td>\n",
              "      <td>7842.0</td>\n",
              "      <td>1</td>\n",
              "    </tr>\n",
              "    <tr>\n",
              "      <th>4</th>\n",
              "      <td>78</td>\n",
              "      <td>42</td>\n",
              "      <td>42</td>\n",
              "      <td>20.130175</td>\n",
              "      <td>81.604873</td>\n",
              "      <td>7.628473</td>\n",
              "      <td>262.717340</td>\n",
              "      <td>rice</td>\n",
              "      <td>3700</td>\n",
              "      <td>7645.0</td>\n",
              "      <td>1</td>\n",
              "    </tr>\n",
              "  </tbody>\n",
              "</table>\n",
              "</div>\n",
              "      <button class=\"colab-df-convert\" onclick=\"convertToInteractive('df-c84dbea0-fa4c-4e1f-b0d5-811e14520d28')\"\n",
              "              title=\"Convert this dataframe to an interactive table.\"\n",
              "              style=\"display:none;\">\n",
              "        \n",
              "  <svg xmlns=\"http://www.w3.org/2000/svg\" height=\"24px\"viewBox=\"0 0 24 24\"\n",
              "       width=\"24px\">\n",
              "    <path d=\"M0 0h24v24H0V0z\" fill=\"none\"/>\n",
              "    <path d=\"M18.56 5.44l.94 2.06.94-2.06 2.06-.94-2.06-.94-.94-2.06-.94 2.06-2.06.94zm-11 1L8.5 8.5l.94-2.06 2.06-.94-2.06-.94L8.5 2.5l-.94 2.06-2.06.94zm10 10l.94 2.06.94-2.06 2.06-.94-2.06-.94-.94-2.06-.94 2.06-2.06.94z\"/><path d=\"M17.41 7.96l-1.37-1.37c-.4-.4-.92-.59-1.43-.59-.52 0-1.04.2-1.43.59L10.3 9.45l-7.72 7.72c-.78.78-.78 2.05 0 2.83L4 21.41c.39.39.9.59 1.41.59.51 0 1.02-.2 1.41-.59l7.78-7.78 2.81-2.81c.8-.78.8-2.07 0-2.86zM5.41 20L4 18.59l7.72-7.72 1.47 1.35L5.41 20z\"/>\n",
              "  </svg>\n",
              "      </button>\n",
              "      \n",
              "  <style>\n",
              "    .colab-df-container {\n",
              "      display:flex;\n",
              "      flex-wrap:wrap;\n",
              "      gap: 12px;\n",
              "    }\n",
              "\n",
              "    .colab-df-convert {\n",
              "      background-color: #E8F0FE;\n",
              "      border: none;\n",
              "      border-radius: 50%;\n",
              "      cursor: pointer;\n",
              "      display: none;\n",
              "      fill: #1967D2;\n",
              "      height: 32px;\n",
              "      padding: 0 0 0 0;\n",
              "      width: 32px;\n",
              "    }\n",
              "\n",
              "    .colab-df-convert:hover {\n",
              "      background-color: #E2EBFA;\n",
              "      box-shadow: 0px 1px 2px rgba(60, 64, 67, 0.3), 0px 1px 3px 1px rgba(60, 64, 67, 0.15);\n",
              "      fill: #174EA6;\n",
              "    }\n",
              "\n",
              "    [theme=dark] .colab-df-convert {\n",
              "      background-color: #3B4455;\n",
              "      fill: #D2E3FC;\n",
              "    }\n",
              "\n",
              "    [theme=dark] .colab-df-convert:hover {\n",
              "      background-color: #434B5C;\n",
              "      box-shadow: 0px 1px 3px 1px rgba(0, 0, 0, 0.15);\n",
              "      filter: drop-shadow(0px 1px 2px rgba(0, 0, 0, 0.3));\n",
              "      fill: #FFFFFF;\n",
              "    }\n",
              "  </style>\n",
              "\n",
              "      <script>\n",
              "        const buttonEl =\n",
              "          document.querySelector('#df-c84dbea0-fa4c-4e1f-b0d5-811e14520d28 button.colab-df-convert');\n",
              "        buttonEl.style.display =\n",
              "          google.colab.kernel.accessAllowed ? 'block' : 'none';\n",
              "\n",
              "        async function convertToInteractive(key) {\n",
              "          const element = document.querySelector('#df-c84dbea0-fa4c-4e1f-b0d5-811e14520d28');\n",
              "          const dataTable =\n",
              "            await google.colab.kernel.invokeFunction('convertToInteractive',\n",
              "                                                     [key], {});\n",
              "          if (!dataTable) return;\n",
              "\n",
              "          const docLinkHtml = 'Like what you see? Visit the ' +\n",
              "            '<a target=\"_blank\" href=https://colab.research.google.com/notebooks/data_table.ipynb>data table notebook</a>'\n",
              "            + ' to learn more about interactive tables.';\n",
              "          element.innerHTML = '';\n",
              "          dataTable['output_type'] = 'display_data';\n",
              "          await google.colab.output.renderOutput(dataTable, element);\n",
              "          const docLink = document.createElement('div');\n",
              "          docLink.innerHTML = docLinkHtml;\n",
              "          element.appendChild(docLink);\n",
              "        }\n",
              "      </script>\n",
              "    </div>\n",
              "  </div>\n",
              "  "
            ],
            "text/plain": [
              "    N   P   K  temperature  ...  label   Area  Production Code\n",
              "0  90  42  43    20.879744  ...   rice  14512     22405.0    1\n",
              "1  85  58  41    21.770462  ...   rice   8366     15865.0    1\n",
              "2  60  55  44    23.004459  ...   rice   5320     11416.0    1\n",
              "3  74  35  40    26.491096  ...   rice   4401      7842.0    1\n",
              "4  78  42  42    20.130175  ...   rice   3700      7645.0    1\n",
              "\n",
              "[5 rows x 11 columns]"
            ]
          },
          "metadata": {},
          "execution_count": 38
        }
      ]
    },
    {
      "cell_type": "code",
      "source": [
        "cp.label.unique()\n"
      ],
      "metadata": {
        "colab": {
          "base_uri": "https://localhost:8080/"
        },
        "id": "_vHZ2GxTRZUY",
        "outputId": "fffa6c32-e05f-4694-b055-a24090f674ba"
      },
      "execution_count": null,
      "outputs": [
        {
          "output_type": "execute_result",
          "data": {
            "text/plain": [
              "array(['rice', 'maize', 'kidneybeans', 'pigeonpeas', 'mothbeans',\n",
              "       'mungbean', 'blackgram', 'lentil', 'pomegranate', 'banana',\n",
              "       'mango', 'grapes', 'watermelon', 'muskmelon', 'apple', 'orange',\n",
              "       'papaya', 'coconut', 'cotton', 'jute', 'coffee'], dtype=object)"
            ]
          },
          "metadata": {},
          "execution_count": 62
        }
      ]
    },
    {
      "cell_type": "code",
      "source": [
        "dict={1:'rice', 2:'maize', 3:'kidneybeans', 4:'peas', 5:'mothbeans', 6:'moong', 7:'blackgram', 8:'lentil', 9:'pomegranate', 10:'banana', 11:'mango', 12:'grapes', 13:'watermelon', 14:'muskmelon', 15:'apple', 16:'orange', 17:'papaya', 18:'coconut', 19:'cotton', 20:'jute', 21:'coffee'}"
      ],
      "metadata": {
        "id": "9wiaNzLeRlpf"
      },
      "execution_count": null,
      "outputs": []
    },
    {
      "cell_type": "code",
      "source": [
        "score = cross_val_score(dt, features, target, cv=4)\n",
        "print(\"Cross validation score \", score)"
      ],
      "metadata": {
        "colab": {
          "base_uri": "https://localhost:8080/"
        },
        "id": "r6YuN37LFVmk",
        "outputId": "330fdac4-0013-4fc3-f39b-f1eaabbbb15d"
      },
      "execution_count": null,
      "outputs": [
        {
          "output_type": "stream",
          "name": "stdout",
          "text": [
            "Cross validation score  [0.94285714 0.92380952 0.93333333 0.94666667]\n"
          ]
        }
      ]
    },
    {
      "cell_type": "code",
      "source": [
        "#Crop Recommendation\n",
        "def prediction () :\n",
        "\n",
        "  arr=np.array([90,40,35,20,60,5,200])\n",
        "  df=pd.DataFrame(arr)\n",
        "  df=df.T\n",
        "  pred_ans=dt.predict(df)\n",
        "  ans=(int) (pred_ans)\n",
        "  print(dict[ans])\n"
      ],
      "metadata": {
        "id": "o-d4csOWK3Xj"
      },
      "execution_count": null,
      "outputs": []
    },
    {
      "cell_type": "code",
      "source": [
        "\n",
        "prediction()"
      ],
      "metadata": {
        "id": "-aR8ZisWNItr",
        "colab": {
          "base_uri": "https://localhost:8080/"
        },
        "outputId": "077acff1-121f-4fe1-f423-2fb5fd3e42cd"
      },
      "execution_count": null,
      "outputs": [
        {
          "output_type": "stream",
          "name": "stdout",
          "text": [
            "coffee\n"
          ]
        },
        {
          "output_type": "stream",
          "name": "stderr",
          "text": [
            "/usr/local/lib/python3.7/dist-packages/sklearn/base.py:446: UserWarning: X does not have valid feature names, but DecisionTreeClassifier was fitted with feature names\n",
            "  \"X does not have valid feature names, but\"\n"
          ]
        }
      ]
    },
    {
      "cell_type": "code",
      "source": [
        "24#Train and test accuracy\n",
        "\n",
        "print (\"Decision tree (training accuracy) \",dt.score(X_train,y_train))\n",
        "print(\"Decision tree (test accuracy) \",dt.score(X_test,y_test))"
      ],
      "metadata": {
        "colab": {
          "base_uri": "https://localhost:8080/"
        },
        "id": "LsbHoRTNFsIZ",
        "outputId": "869cf19e-3dd6-4b54-cc2f-35b3653a4227"
      },
      "execution_count": null,
      "outputs": [
        {
          "output_type": "stream",
          "name": "stdout",
          "text": [
            "Decision tree (training accuracy)  0.9464285714285714\n",
            "Decision tree (test accuracy)  0.9238095238095239\n"
          ]
        }
      ]
    },
    {
      "cell_type": "code",
      "source": [
        "score = cross_val_score(RF,features,target,cv=5)\n",
        "print('Cross validation score: ',score)"
      ],
      "metadata": {
        "colab": {
          "base_uri": "https://localhost:8080/"
        },
        "id": "DBliLMbvGnKf",
        "outputId": "8cebddbf-1bfd-4dfd-eaf6-ce288f2796e9"
      },
      "execution_count": null,
      "outputs": [
        {
          "output_type": "stream",
          "name": "stdout",
          "text": [
            "Cross validation score:  [0.9952381  0.99047619 0.9952381  0.9952381  0.99285714]\n"
          ]
        }
      ]
    },
    {
      "cell_type": "code",
      "source": [
        "# Naive Bayes Classifier\n",
        "from sklearn.naive_bayes import GaussianNB\n",
        "NaiveBayes = GaussianNB()\n",
        "\n",
        "NaiveBayes.fit(X_train,y_train)\n",
        "\n",
        "predicted_values = NaiveBayes.predict(X_test)\n",
        "x = metrics.accuracy_score(y_test, predicted_values)\n",
        "acc.append(x)\n",
        "model.append('Naive Bayes')\n",
        "print(\"Naive Bayes Accuracy is: \", x)\n",
        "\n",
        "print(classification_report(y_test,predicted_values))"
      ],
      "metadata": {
        "colab": {
          "base_uri": "https://localhost:8080/"
        },
        "id": "BeMfguRrGrLX",
        "outputId": "e6d3a526-9a0b-46c5-caa6-b7b781522abf"
      },
      "execution_count": null,
      "outputs": [
        {
          "output_type": "stream",
          "name": "stdout",
          "text": [
            "Naive Bayes Accuracy is:  0.9928571428571429\n",
            "              precision    recall  f1-score   support\n",
            "\n",
            "       apple       1.00      1.00      1.00        24\n",
            "      banana       1.00      1.00      1.00        18\n",
            "   blackgram       1.00      1.00      1.00        23\n",
            "     coconut       1.00      1.00      1.00        19\n",
            "      coffee       1.00      1.00      1.00        21\n",
            "      cotton       1.00      1.00      1.00        22\n",
            "      grapes       1.00      1.00      1.00        18\n",
            "        jute       0.85      1.00      0.92        17\n",
            " kidneybeans       1.00      1.00      1.00        21\n",
            "      lentil       1.00      1.00      1.00        22\n",
            "       maize       1.00      1.00      1.00        18\n",
            "       mango       1.00      1.00      1.00        20\n",
            "   mothbeans       1.00      1.00      1.00        21\n",
            "    mungbean       1.00      1.00      1.00        21\n",
            "   muskmelon       1.00      1.00      1.00        22\n",
            "      orange       1.00      1.00      1.00        21\n",
            "      papaya       1.00      1.00      1.00        27\n",
            "  pigeonpeas       1.00      1.00      1.00        20\n",
            " pomegranate       1.00      1.00      1.00        13\n",
            "        rice       1.00      0.84      0.91        19\n",
            "  watermelon       1.00      1.00      1.00        13\n",
            "\n",
            "    accuracy                           0.99       420\n",
            "   macro avg       0.99      0.99      0.99       420\n",
            "weighted avg       0.99      0.99      0.99       420\n",
            "\n"
          ]
        }
      ]
    },
    {
      "cell_type": "code",
      "source": [
        "# XGBoost\n",
        "import xgboost as xgb\n",
        "XB = xgb.XGBClassifier()\n",
        "XB.fit(X_train,y_train)\n",
        "\n",
        "predicted_values = XB.predict(X_test)\n",
        "\n",
        "x = metrics.accuracy_score(y_test, predicted_values);\n",
        "acc.append(x)\n",
        "model.append('XGBoost')\n",
        "print(\"XGBoost Accuracy is: \", x)\n",
        "\n",
        "print(classification_report(y_test,predicted_values))"
      ],
      "metadata": {
        "colab": {
          "base_uri": "https://localhost:8080/"
        },
        "id": "wPjBJNf0HB_8",
        "outputId": "2e6b95d5-b129-42dc-efc8-c768e679efda"
      },
      "execution_count": null,
      "outputs": [
        {
          "output_type": "stream",
          "name": "stdout",
          "text": [
            "XGBoost Accuracy is:  0.9952380952380953\n",
            "              precision    recall  f1-score   support\n",
            "\n",
            "       apple       1.00      1.00      1.00        24\n",
            "      banana       1.00      1.00      1.00        18\n",
            "   blackgram       0.96      1.00      0.98        23\n",
            "     coconut       1.00      1.00      1.00        19\n",
            "      coffee       1.00      1.00      1.00        21\n",
            "      cotton       1.00      1.00      1.00        22\n",
            "      grapes       1.00      1.00      1.00        18\n",
            "        jute       1.00      1.00      1.00        17\n",
            " kidneybeans       1.00      1.00      1.00        21\n",
            "      lentil       1.00      0.95      0.98        22\n",
            "       maize       1.00      1.00      1.00        18\n",
            "       mango       1.00      1.00      1.00        20\n",
            "   mothbeans       0.95      1.00      0.98        21\n",
            "    mungbean       1.00      1.00      1.00        21\n",
            "   muskmelon       1.00      1.00      1.00        22\n",
            "      orange       1.00      1.00      1.00        21\n",
            "      papaya       1.00      1.00      1.00        27\n",
            "  pigeonpeas       1.00      0.95      0.97        20\n",
            " pomegranate       1.00      1.00      1.00        13\n",
            "        rice       1.00      1.00      1.00        19\n",
            "  watermelon       1.00      1.00      1.00        13\n",
            "\n",
            "    accuracy                           1.00       420\n",
            "   macro avg       1.00      1.00      1.00       420\n",
            "weighted avg       1.00      1.00      1.00       420\n",
            "\n"
          ]
        }
      ]
    },
    {
      "cell_type": "code",
      "source": [
        "plt.figure(figsize=[14,7],dpi = 100, facecolor='white')\n",
        "plt.title('Accuracy Comparison')\n",
        "plt.xlabel('Accuracy')\n",
        "plt.ylabel('ML Algorithms')\n",
        "sns.barplot(x = acc,y = model,palette='viridis')\n",
        "plt.savefig('plot.png', dpi=300, bbox_inches='tight')"
      ],
      "metadata": {
        "colab": {
          "base_uri": "https://localhost:8080/",
          "height": 631
        },
        "id": "dW1jf1jpHMl9",
        "outputId": "503a18e0-ad19-402f-8f95-58c826cded3f"
      },
      "execution_count": null,
      "outputs": [
        {
          "output_type": "display_data",
          "data": {
            "image/png": "[encoded data removed]",
            "text/plain": [
              "<Figure size 1400x700 with 1 Axes>"
            ]
          },
          "metadata": {}
        }
      ]
    },
    {
      "cell_type": "code",
      "source": [
        ""
      ],
      "metadata": {
        "id": "nBm8aFxsHULR"
      },
      "execution_count": null,
      "outputs": []
    }
  ]
}